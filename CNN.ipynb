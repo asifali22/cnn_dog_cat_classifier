{
 "cells": [
  {
   "cell_type": "markdown",
   "metadata": {},
   "source": [
    "# Convolutional Neural Networks"
   ]
  },
  {
   "cell_type": "code",
   "execution_count": 1,
   "metadata": {},
   "outputs": [
    {
     "name": "stderr",
     "output_type": "stream",
     "text": [
      "/home/monster/anaconda3/lib/python3.6/site-packages/h5py/__init__.py:34: FutureWarning: Conversion of the second argument of issubdtype from `float` to `np.floating` is deprecated. In future, it will be treated as `np.float64 == np.dtype(float).type`.\n",
      "  from ._conv import register_converters as _register_converters\n",
      "Using TensorFlow backend.\n"
     ]
    }
   ],
   "source": [
    "# Building the CNN\n",
    "from keras.models import Sequential\n",
    "from keras.layers import Convolution2D\n",
    "from keras.layers import MaxPooling2D\n",
    "from keras.layers import Flatten\n",
    "from keras.layers import Dense"
   ]
  },
  {
   "cell_type": "code",
   "execution_count": 2,
   "metadata": {
    "collapsed": true
   },
   "outputs": [],
   "source": [
    "# Initalizing the CNN\n",
    "classifier = Sequential()"
   ]
  },
  {
   "cell_type": "code",
   "execution_count": 3,
   "metadata": {},
   "outputs": [
    {
     "name": "stderr",
     "output_type": "stream",
     "text": [
      "/home/monster/anaconda3/lib/python3.6/site-packages/ipykernel_launcher.py:2: UserWarning: Update your `Conv2D` call to the Keras 2 API: `Conv2D(32, (3, 3), input_shape=(64, 64, 3..., activation=\"relu\")`\n",
      "  \n"
     ]
    }
   ],
   "source": [
    "# Add CL\n",
    "classifier.add(Convolution2D(32, 3, 3, input_shape = (64, 64, 3), activation = 'relu'))"
   ]
  },
  {
   "cell_type": "code",
   "execution_count": 4,
   "metadata": {
    "collapsed": true
   },
   "outputs": [],
   "source": [
    "# Pooling\n",
    "classifier.add(MaxPooling2D(pool_size = (2,2)))"
   ]
  },
  {
   "cell_type": "code",
   "execution_count": 5,
   "metadata": {},
   "outputs": [
    {
     "name": "stderr",
     "output_type": "stream",
     "text": [
      "/home/monster/anaconda3/lib/python3.6/site-packages/ipykernel_launcher.py:1: UserWarning: Update your `Conv2D` call to the Keras 2 API: `Conv2D(32, (3, 3), activation=\"relu\")`\n",
      "  \"\"\"Entry point for launching an IPython kernel.\n"
     ]
    }
   ],
   "source": [
    "classifier.add(Convolution2D(32, 3, 3, activation = 'relu'))\n",
    "classifier.add(MaxPooling2D(pool_size = (2,2)))"
   ]
  },
  {
   "cell_type": "code",
   "execution_count": 6,
   "metadata": {
    "collapsed": true
   },
   "outputs": [],
   "source": [
    "# Flatten\n",
    "classifier.add(Flatten())"
   ]
  },
  {
   "cell_type": "code",
   "execution_count": 7,
   "metadata": {},
   "outputs": [
    {
     "name": "stderr",
     "output_type": "stream",
     "text": [
      "/home/monster/anaconda3/lib/python3.6/site-packages/ipykernel_launcher.py:2: UserWarning: Update your `Dense` call to the Keras 2 API: `Dense(activation=\"relu\", units=128)`\n",
      "  \n",
      "/home/monster/anaconda3/lib/python3.6/site-packages/ipykernel_launcher.py:3: UserWarning: Update your `Dense` call to the Keras 2 API: `Dense(activation=\"sigmoid\", units=1)`\n",
      "  This is separate from the ipykernel package so we can avoid doing imports until\n"
     ]
    }
   ],
   "source": [
    "# Full Connection\n",
    "classifier.add(Dense(output_dim = 128, activation = 'relu'))\n",
    "classifier.add(Dense(output_dim = 1, activation = 'sigmoid'))"
   ]
  },
  {
   "cell_type": "code",
   "execution_count": 8,
   "metadata": {
    "collapsed": true
   },
   "outputs": [],
   "source": [
    "# Compile CNN\n",
    "classifier.compile(optimizer='adam', loss = 'binary_crossentropy', metrics = ['accuracy'] )"
   ]
  },
  {
   "cell_type": "code",
   "execution_count": 9,
   "metadata": {},
   "outputs": [
    {
     "name": "stdout",
     "output_type": "stream",
     "text": [
      "Found 8000 images belonging to 2 classes.\n",
      "Found 2000 images belonging to 2 classes.\n",
      "Epoch 1/25\n",
      "8000/8000 [==============================] - 2211s 276ms/step - loss: 0.3378 - acc: 0.8414 - val_loss: 0.5717 - val_acc: 0.8121\n",
      "Epoch 2/25\n",
      "8000/8000 [==============================] - 2165s 271ms/step - loss: 0.0907 - acc: 0.9664 - val_loss: 0.7931 - val_acc: 0.8131\n",
      "Epoch 3/25\n",
      "8000/8000 [==============================] - 2158s 270ms/step - loss: 0.0504 - acc: 0.9823 - val_loss: 0.9667 - val_acc: 0.8144\n",
      "Epoch 4/25\n",
      "8000/8000 [==============================] - 2167s 271ms/step - loss: 0.0361 - acc: 0.9879 - val_loss: 0.9674 - val_acc: 0.8100\n",
      "Epoch 5/25\n",
      "8000/8000 [==============================] - 2167s 271ms/step - loss: 0.0314 - acc: 0.9896 - val_loss: 1.1305 - val_acc: 0.8100\n",
      "Epoch 6/25\n",
      "8000/8000 [==============================] - 2190s 274ms/step - loss: 0.0253 - acc: 0.9916 - val_loss: 1.1419 - val_acc: 0.8145\n",
      "Epoch 7/25\n",
      "8000/8000 [==============================] - 2162s 270ms/step - loss: 0.0229 - acc: 0.9926 - val_loss: 1.2891 - val_acc: 0.8017\n",
      "Epoch 8/25\n",
      "8000/8000 [==============================] - 2191s 274ms/step - loss: 0.0205 - acc: 0.9934 - val_loss: 1.2415 - val_acc: 0.8142\n",
      "Epoch 9/25\n",
      "8000/8000 [==============================] - 2164s 270ms/step - loss: 0.0183 - acc: 0.9943 - val_loss: 1.3024 - val_acc: 0.8052\n",
      "Epoch 10/25\n",
      "8000/8000 [==============================] - 2175s 272ms/step - loss: 0.0165 - acc: 0.9947 - val_loss: 1.3750 - val_acc: 0.8087\n",
      "Epoch 11/25\n",
      "8000/8000 [==============================] - 2193s 274ms/step - loss: 0.0154 - acc: 0.9952 - val_loss: 1.4268 - val_acc: 0.8006\n",
      "Epoch 12/25\n",
      "8000/8000 [==============================] - 2180s 273ms/step - loss: 0.0135 - acc: 0.9956 - val_loss: 1.4197 - val_acc: 0.8099\n",
      "Epoch 13/25\n",
      "8000/8000 [==============================] - 2206s 276ms/step - loss: 0.0131 - acc: 0.9959 - val_loss: 1.4230 - val_acc: 0.8058\n",
      "Epoch 14/25\n",
      "8000/8000 [==============================] - 2171s 271ms/step - loss: 0.0134 - acc: 0.9960 - val_loss: 1.3571 - val_acc: 0.8104\n",
      "Epoch 15/25\n",
      "8000/8000 [==============================] - 2167s 271ms/step - loss: 0.0121 - acc: 0.9963 - val_loss: 1.3198 - val_acc: 0.8180\n",
      "Epoch 16/25\n",
      "8000/8000 [==============================] - 2193s 274ms/step - loss: 0.0117 - acc: 0.9965 - val_loss: 1.4395 - val_acc: 0.8020\n",
      "Epoch 17/25\n",
      "8000/8000 [==============================] - 2196s 275ms/step - loss: 0.0104 - acc: 0.9969 - val_loss: 1.3687 - val_acc: 0.8178\n",
      "Epoch 18/25\n",
      "8000/8000 [==============================] - 2181s 273ms/step - loss: 0.0106 - acc: 0.9968 - val_loss: 1.4972 - val_acc: 0.8102\n",
      "Epoch 19/25\n",
      "8000/8000 [==============================] - 2182s 273ms/step - loss: 0.0094 - acc: 0.9971 - val_loss: 1.4901 - val_acc: 0.8186\n",
      "Epoch 20/25\n",
      "8000/8000 [==============================] - 2199s 275ms/step - loss: 0.0101 - acc: 0.9969 - val_loss: 1.5283 - val_acc: 0.8109\n",
      "Epoch 21/25\n",
      "8000/8000 [==============================] - 2175s 272ms/step - loss: 0.0092 - acc: 0.9972 - val_loss: 1.5647 - val_acc: 0.8095\n",
      "Epoch 22/25\n",
      "8000/8000 [==============================] - 2185s 273ms/step - loss: 0.0092 - acc: 0.9973 - val_loss: 1.5689 - val_acc: 0.8070\n",
      "Epoch 23/25\n",
      "8000/8000 [==============================] - 2176s 272ms/step - loss: 0.0084 - acc: 0.9976 - val_loss: 1.5833 - val_acc: 0.8053\n",
      "Epoch 24/25\n",
      "8000/8000 [==============================] - 2176s 272ms/step - loss: 0.0088 - acc: 0.9974 - val_loss: 1.6300 - val_acc: 0.8078\n",
      "Epoch 25/25\n",
      "8000/8000 [==============================] - 2191s 274ms/step - loss: 0.0092 - acc: 0.9974 - val_loss: 1.5944 - val_acc: 0.8188\n"
     ]
    },
    {
     "data": {
      "text/plain": [
       "<keras.callbacks.History at 0x7f6e2c6db4a8>"
      ]
     },
     "execution_count": 9,
     "metadata": {},
     "output_type": "execute_result"
    }
   ],
   "source": [
    "# Fit images to CNN\n",
    "from keras.preprocessing.image import ImageDataGenerator\n",
    "\n",
    "train_datagen = ImageDataGenerator(\n",
    "        rescale=1./255, # pixel values between 0 and 1\n",
    "        shear_range=0.2,\n",
    "        zoom_range=0.2,\n",
    "        horizontal_flip=True)\n",
    "\n",
    "test_datagen = ImageDataGenerator(rescale=1./255)\n",
    "\n",
    "training_set = train_datagen.flow_from_directory(\n",
    "        'dataset/training_set',\n",
    "        target_size=(64, 64),\n",
    "        batch_size=32,\n",
    "        class_mode='binary')\n",
    "\n",
    "test_set = test_datagen.flow_from_directory(\n",
    "        'dataset/test_set',\n",
    "        target_size=(64, 64),\n",
    "        batch_size=32,\n",
    "        class_mode='binary')\n",
    "\n",
    "classifier.fit_generator(\n",
    "        training_set,\n",
    "        steps_per_epoch=8000,\n",
    "        epochs=25,\n",
    "        validation_data=test_set,\n",
    "        validation_steps=2000)"
   ]
  }
 ],
 "metadata": {
  "kernelspec": {
   "display_name": "Python 3",
   "language": "python",
   "name": "python3"
  },
  "language_info": {
   "codemirror_mode": {
    "name": "ipython",
    "version": 3
   },
   "file_extension": ".py",
   "mimetype": "text/x-python",
   "name": "python",
   "nbconvert_exporter": "python",
   "pygments_lexer": "ipython3",
   "version": "3.6.3"
  }
 },
 "nbformat": 4,
 "nbformat_minor": 2
}
